{
 "cells": [
  {
   "cell_type": "markdown",
   "id": "dominant-liberty",
   "metadata": {},
   "source": [
    "# When do I stop Bayesian optimization?\n",
    "Knowing when to quit is an important skill. In terms of optimization problems, knowing when you've found a solution is typically driven by \"empirical\" concerns: when have you run out of resources or patience. \n",
    "\n",
    "Here, we explore whether a key feature of Bayesian optimization - predictions of the outcome of an experiment and with an uncertainty - can be used to provide more rigor around when to stop optimizing."
   ]
  },
  {
   "cell_type": "code",
   "execution_count": 1,
   "id": "egyptian-discretion",
   "metadata": {
    "execution": {
     "iopub.execute_input": "2022-01-10T15:31:27.306573Z",
     "iopub.status.busy": "2022-01-10T15:31:27.306023Z",
     "iopub.status.idle": "2022-01-10T15:31:27.896515Z",
     "shell.execute_reply": "2022-01-10T15:31:27.896892Z"
    }
   },
   "outputs": [],
   "source": [
    "%matplotlib inline\n",
    "from matplotlib import pyplot as plt\n",
    "from sklearn.gaussian_process import GaussianProcessRegressor\n",
    "from sklearn.gaussian_process.kernels import Matern\n",
    "from sklearn.model_selection import train_test_split\n",
    "from time import perf_counter\n",
    "from scipy import stats\n",
    "from tqdm import tqdm\n",
    "import pandas as pd\n",
    "import numpy as np"
   ]
  },
  {
   "cell_type": "code",
   "execution_count": 2,
   "id": "16421e05-81a8-40b6-96b2-dfbd133075ad",
   "metadata": {
    "execution": {
     "iopub.execute_input": "2022-01-10T15:31:27.899967Z",
     "iopub.status.busy": "2022-01-10T15:31:27.899508Z",
     "iopub.status.idle": "2022-01-10T15:31:27.900456Z",
     "shell.execute_reply": "2022-01-10T15:31:27.900817Z"
    }
   },
   "outputs": [],
   "source": [
    "np.random.seed(32)"
   ]
  },
  {
   "cell_type": "markdown",
   "id": "emotional-tennis",
   "metadata": {},
   "source": [
    "## First, building a Gaussian process function on an example dataset.\n",
    "We use the target function from [modAL's documentation](https://modal-python.readthedocs.io/en/latest/content/examples/bayesian_optimization.html) as an example.\n",
    "The goal of this problem is to find a point that maximizes a function."
   ]
  },
  {
   "cell_type": "code",
   "execution_count": 3,
   "id": "circular-activation",
   "metadata": {
    "execution": {
     "iopub.execute_input": "2022-01-10T15:31:27.903431Z",
     "iopub.status.busy": "2022-01-10T15:31:27.902973Z",
     "iopub.status.idle": "2022-01-10T15:31:27.904415Z",
     "shell.execute_reply": "2022-01-10T15:31:27.904027Z"
    }
   },
   "outputs": [],
   "source": [
    "X = np.linspace(0, 20, 128)\n",
    "y = np.sin(X)/2 - ((10 - X)**2)/50 + 2"
   ]
  },
  {
   "cell_type": "code",
   "execution_count": 4,
   "id": "victorian-marine",
   "metadata": {
    "execution": {
     "iopub.execute_input": "2022-01-10T15:31:27.906718Z",
     "iopub.status.busy": "2022-01-10T15:31:27.906251Z",
     "iopub.status.idle": "2022-01-10T15:31:27.907513Z",
     "shell.execute_reply": "2022-01-10T15:31:27.907894Z"
    }
   },
   "outputs": [],
   "source": [
    "X = np.expand_dims(X, 1)  # Makes X into a 2D array, as expected by sklearn"
   ]
  },
  {
   "cell_type": "markdown",
   "id": "toxic-wisdom",
   "metadata": {},
   "source": [
    "Pick a few points and train an initial model"
   ]
  },
  {
   "cell_type": "code",
   "execution_count": 5,
   "id": "associate-england",
   "metadata": {
    "execution": {
     "iopub.execute_input": "2022-01-10T15:31:27.910538Z",
     "iopub.status.busy": "2022-01-10T15:31:27.910099Z",
     "iopub.status.idle": "2022-01-10T15:31:27.911165Z",
     "shell.execute_reply": "2022-01-10T15:31:27.911500Z"
    }
   },
   "outputs": [],
   "source": [
    "X_train, X_test, y_train, y_test = train_test_split(X, y, train_size=5)"
   ]
  },
  {
   "cell_type": "code",
   "execution_count": 6,
   "id": "bearing-honey",
   "metadata": {
    "execution": {
     "iopub.execute_input": "2022-01-10T15:31:27.913766Z",
     "iopub.status.busy": "2022-01-10T15:31:27.913335Z",
     "iopub.status.idle": "2022-01-10T15:31:27.914799Z",
     "shell.execute_reply": "2022-01-10T15:31:27.914408Z"
    }
   },
   "outputs": [],
   "source": [
    "kernel = Matern()\n",
    "model = GaussianProcessRegressor(kernel=kernel)"
   ]
  },
  {
   "cell_type": "code",
   "execution_count": 7,
   "id": "norwegian-sentence",
   "metadata": {
    "execution": {
     "iopub.execute_input": "2022-01-10T15:31:27.941513Z",
     "iopub.status.busy": "2022-01-10T15:31:27.941266Z",
     "iopub.status.idle": "2022-01-10T15:31:27.943952Z",
     "shell.execute_reply": "2022-01-10T15:31:27.943696Z"
    }
   },
   "outputs": [
    {
     "data": {
      "text/plain": [
       "GaussianProcessRegressor(kernel=Matern(length_scale=1, nu=1.5))"
      ]
     },
     "execution_count": 7,
     "metadata": {},
     "output_type": "execute_result"
    }
   ],
   "source": [
    "model.fit(X_train, y_train)"
   ]
  },
  {
   "cell_type": "markdown",
   "id": "minor-exhibition",
   "metadata": {},
   "source": [
    "Plot the results"
   ]
  },
  {
   "cell_type": "code",
   "execution_count": 8,
   "id": "technological-jamaica",
   "metadata": {
    "execution": {
     "iopub.execute_input": "2022-01-10T15:31:27.949205Z",
     "iopub.status.busy": "2022-01-10T15:31:27.948956Z",
     "iopub.status.idle": "2022-01-10T15:31:28.079182Z",
     "shell.execute_reply": "2022-01-10T15:31:28.078927Z"
    }
   },
   "outputs": [
    {
     "data": {
      "text/plain": [
       "<matplotlib.legend.Legend at 0x7fcdb47b85e0>"
      ]
     },
     "execution_count": 8,
     "metadata": {},
     "output_type": "execute_result"
    },
    {
     "data": {
      "image/png": "[encoded data removed]",
      "text/plain": [
       "<Figure size 432x288 with 1 Axes>"
      ]
     },
     "metadata": {
      "needs_background": "light"
     },
     "output_type": "display_data"
    }
   ],
   "source": [
    "fig, ax = plt.subplots()\n",
    "\n",
    "ax.plot(X, y, 'k--', label='True')\n",
    "\n",
    "y_pred, y_std = model.predict(X, return_std=True)\n",
    "ax.plot(X, model.predict(X), label='Fit')\n",
    "ax.fill_between(X[:, 0], y_pred - y_std, y_pred + y_std, alpha=0.5)\n",
    "ax.scatter(X_train, y_train, label='Training Points', color='darkblue')\n",
    "\n",
    "ax.set_xlabel('x')\n",
    "ax.set_ylabel('y')\n",
    "ax.legend()"
   ]
  },
  {
   "cell_type": "markdown",
   "id": "5d41466b-f509-425a-ba54-bdf38e52253e",
   "metadata": {},
   "source": [
    "As you can see, there are many points in our search space between 0 and 20 that look like they would improve off our current best point in the training set."
   ]
  },
  {
   "cell_type": "markdown",
   "id": "58dc3f2f-6c93-497a-953d-26ce42726f8b",
   "metadata": {},
   "source": [
    "## An easy route: Assume every prediction is independant\n",
    "A first approach to estimating the whether any point is likely to beat a threshold is to compute the probability that each will exceed it and then combine the predictions to get the probability that *any* is above.\n",
    "\n",
    "If the probabilities are independent (spoiler: they are not), this is an easy computation. Then the probability of any of $N$ points being above the threshold is one minus the probability of all being below. If we denote the probability of point $i$ in our search space being below the threshold as $P^{\\mathrm{fail}}_i$, the probability of all being below is:\n",
    "\n",
    "$P^{\\mathrm{all-fail}} = \\prod^N_i P^{\\mathrm{fail}}_i$\n",
    "\n",
    "This is easy to compute using our GPR model, which gives us the standard deviation and mean of the predicted value of each point. The probability distribution of expected values is Gaussian and we can compute the probability for each being above a threshold analytically."
   ]
  },
  {
   "cell_type": "code",
   "execution_count": 9,
   "id": "3f563102-5200-498d-8480-ab2ae94aff03",
   "metadata": {
    "execution": {
     "iopub.execute_input": "2022-01-10T15:31:28.081146Z",
     "iopub.status.busy": "2022-01-10T15:31:28.080879Z",
     "iopub.status.idle": "2022-01-10T15:31:28.083072Z",
     "shell.execute_reply": "2022-01-10T15:31:28.082804Z"
    }
   },
   "outputs": [],
   "source": [
    "y_mean, y_std = model.predict(X, return_std=True)\n",
    "y_dist = stats.norm(loc=y_mean, scale=y_std ** 2)"
   ]
  },
  {
   "cell_type": "code",
   "execution_count": 10,
   "id": "ab83da7e-0fcd-4b8e-89b2-6ea90bc96be0",
   "metadata": {
    "execution": {
     "iopub.execute_input": "2022-01-10T15:31:28.084762Z",
     "iopub.status.busy": "2022-01-10T15:31:28.084504Z",
     "iopub.status.idle": "2022-01-10T15:31:28.085992Z",
     "shell.execute_reply": "2022-01-10T15:31:28.085728Z"
    }
   },
   "outputs": [],
   "source": [
    "thr = 2.5\n",
    "y_prob = y_dist.cdf(thr)  # Use the cumulative distribution function to compute P(y<thr)"
   ]
  },
  {
   "cell_type": "code",
   "execution_count": 11,
   "id": "27a97176-3ab1-429f-bd7f-3e8e53b1b837",
   "metadata": {
    "execution": {
     "iopub.execute_input": "2022-01-10T15:31:28.093859Z",
     "iopub.status.busy": "2022-01-10T15:31:28.093594Z",
     "iopub.status.idle": "2022-01-10T15:31:28.290968Z",
     "shell.execute_reply": "2022-01-10T15:31:28.290761Z"
    }
   },
   "outputs": [
    {
     "data": {
      "text/plain": [
       "Text(0.5, 0, 'x')"
      ]
     },
     "execution_count": 11,
     "metadata": {},
     "output_type": "execute_result"
    },
    {
     "data": {
      "image/png": "[encoded data removed]",
      "text/plain": [
       "<Figure size 432x288 with 2 Axes>"
      ]
     },
     "metadata": {
      "needs_background": "light"
     },
     "output_type": "display_data"
    }
   ],
   "source": [
    "fig, axs = plt.subplots(2, 1, sharex=True)\n",
    "\n",
    "# Plot the true function\n",
    "ax = axs[0]\n",
    "ax.plot(X, y, 'k--', label='True')\n",
    "\n",
    "# Plot the predictions\n",
    "ax.plot(X, model.predict(X), label='Fit')\n",
    "ax.fill_between(X[:, 0], y_mean - y_std, y_mean + y_std, alpha=0.5)\n",
    "ax.scatter(X_train, y_train, label='Training Points', color='darkblue')\n",
    "ax.set_xlim(ax.get_xlim())\n",
    "ax.plot(ax.get_xlim(), [thr]*2, 'k:')\n",
    "\n",
    "ax.set_ylabel('y')\n",
    "ax.legend(ncol=2)\n",
    "\n",
    "ax = axs[1]\n",
    "\n",
    "ax.plot(X, y_prob, color='crimson')\n",
    "ax.set_ylabel('$P^{\\mathrm{fail}}$')\n",
    "ax.set_xlabel('x')"
   ]
  },
  {
   "cell_type": "markdown",
   "id": "61e8fbec-fcde-4040-9709-c7b7fece5566",
   "metadata": {},
   "source": [
    "See how the probability of failure is lowest where the distribution lies close to the threshold line at $y=2.5$\n",
    "\n",
    "As stated above, we compute the probability of *all* being below a certain value by multiplying each of the probabilities."
   ]
  },
  {
   "cell_type": "code",
   "execution_count": 12,
   "id": "421ff37f-9ad6-4ac3-9210-89399b0e7487",
   "metadata": {
    "execution": {
     "iopub.execute_input": "2022-01-10T15:31:28.292646Z",
     "iopub.status.busy": "2022-01-10T15:31:28.292435Z",
     "iopub.status.idle": "2022-01-10T15:31:28.294108Z",
     "shell.execute_reply": "2022-01-10T15:31:28.293927Z"
    }
   },
   "outputs": [
    {
     "name": "stdout",
     "output_type": "stream",
     "text": [
      "Probability of all being below 2.5: 49.6%\n"
     ]
    }
   ],
   "source": [
    "ind_fail_prob = np.prod(y_prob)\n",
    "print(f'Probability of all being below {thr}: {ind_fail_prob * 100:.1f}%')"
   ]
  },
  {
   "cell_type": "markdown",
   "id": "e2e54ad4-ece4-438a-bea2-55005e62ae1e",
   "metadata": {},
   "source": [
    "Despite the probability of the best point being above the threshold is only 2%, we compute a probability of all failing of 49%. This sounds suspect.\n",
    "\n",
    "It is also not surprising. If you repeat an experiment with a 1% chance of success 64 times, you have a $(0.01)^{64} \\approx 52\\%$ chance of one experiment working *if they are all truly independent*."
   ]
  },
  {
   "cell_type": "markdown",
   "id": "5e63eeda-2c01-4e46-ad5d-e5386c4d066a",
   "metadata": {},
   "source": [
    "## The problem: Measurements are correlated\n",
    "Thinking metaphorically, the predicted values of nearly similar points should always be similar. Speaking mathematically, they should be correlated.\n",
    "\n",
    "The reason this is true is that the predictions of the models are based on the same parameters. Using a linear function as an example, the predicted values for two points, $x_1$ and $x_2$, have values of $y_1 = mx_1 + b$ and $y_2 = mx_2 + b$. You can see how their values are related. \n",
    "\n",
    "The uncertainties of these values are even related. We compute the uncertainty of $y_1$ and $y_2$ due to uncertainty in $m$ and $b$ using partial derivatives: \n",
    "\n",
    "$\\sigma^2_{y_1} = x_1 \\sigma^2_m + \\sigma_b$\n",
    "\n",
    "$\\sigma^2_{y_2} = x_2 \\sigma^2_m + \\sigma_b$\n",
    "\n",
    "So, it isn't just that the values are related. The variance/uncertainty in the values are also driven from a similar source. \n",
    "\n",
    "We, therefore, must capture the covariance between predicted values to reflect how multiple predictions will vary in similar ways due to their dependence on similar parameters.\n",
    "\n",
    "*Advanced note*: We can compute the covariance analytically by [computing the Jacobian matrix](https://en.wikipedia.org/wiki/Propagation_of_uncertainty#Non-linear_combinations) of how predicted values for different points are affected by parameter uncertainty. If you're not perusaded by the above explanation, you can prove the covariance for linear models (and many other model forms) are nonzero using this method."
   ]
  },
  {
   "cell_type": "markdown",
   "id": "3f61eeb2-ae00-4cc3-b4e7-2fe840c99789",
   "metadata": {},
   "source": [
    "## The solution: Multivariate normal distributions\n",
    "We can solve our covariance problem using [Multivariate normal distributes](https://en.wikipedia.org/wiki/Multivariate_normal_distribution). These functions capture how the probability of different events happening are related.\n",
    "\n",
    "For example, the value of a point being below the threshold and its immediate neighbor being above is less likely than both being below. "
   ]
  },
  {
   "cell_type": "code",
   "execution_count": 13,
   "id": "8e175bed-1b4b-458b-8c47-af535a60a939",
   "metadata": {
    "execution": {
     "iopub.execute_input": "2022-01-10T15:31:28.308677Z",
     "iopub.status.busy": "2022-01-10T15:31:28.302946Z",
     "iopub.status.idle": "2022-01-10T15:31:28.514901Z",
     "shell.execute_reply": "2022-01-10T15:31:28.514661Z"
    }
   },
   "outputs": [
    {
     "data": {
      "image/png": "[encoded data removed]",
      "text/plain": [
       "<Figure size 720x180 with 4 Axes>"
      ]
     },
     "metadata": {
      "needs_background": "light"
     },
     "output_type": "display_data"
    }
   ],
   "source": [
    "fig, ax = plt.subplots(1, 4, sharey=True, sharex=True, figsize=(10, 2.5))\n",
    "\n",
    "x_grid, y_grid = np.mgrid[-1:1:.01, -1:1:.01]\n",
    "pos = np.dstack((x_grid, y_grid))\n",
    "\n",
    "for cov, ax in zip([0, 0.1, 0.5, 0.9], ax):\n",
    "    rv = stats.multivariate_normal([0, 0], [[1.0, cov], [cov, 1.0]])\n",
    "    ax.contourf(x_grid, y_grid, rv.pdf(pos), cmap='Blues')\n",
    "    ax.set_title(f'$\\sigma_{{y_1y_2}} = {cov}$')\n",
    "    ax.set_xlim(-1, 1)\n",
    "    ax.set_ylim(-1, 1)"
   ]
  },
  {
   "cell_type": "markdown",
   "id": "566d9db2-8e54-4842-8a9d-b6379f8573fd",
   "metadata": {},
   "source": [
    "See how the probability of $y_1$ being large and $y_2$ being small decreases as we increase the covariance ($\\sigma_{{y_1y_2}}$) between the two values."
   ]
  },
  {
   "cell_type": "markdown",
   "id": "0148e782-ada8-4fb9-be78-eecc1f4d79b3",
   "metadata": {},
   "source": [
    "Noting how the values are no longer independant, we must compute the probability using the joint distribution. We can no longer compute the probabilities of failure separately then multiple them because they are no longer independent.\n",
    "\n",
    "Thanks to SciPy, this is easy. We just create an object that describes the distribution and then ask for the cumulative distribution function for each value in the distribution (i.e., $y_1$ and $y_2$) being less than a threshold"
   ]
  },
  {
   "cell_type": "code",
   "execution_count": 14,
   "id": "079a2daa-d053-410d-88ba-2c17c868bca4",
   "metadata": {
    "execution": {
     "iopub.execute_input": "2022-01-10T15:31:28.517255Z",
     "iopub.status.busy": "2022-01-10T15:31:28.517044Z",
     "iopub.status.idle": "2022-01-10T15:31:28.518449Z",
     "shell.execute_reply": "2022-01-10T15:31:28.518231Z"
    }
   },
   "outputs": [],
   "source": [
    "grid_thr = 0.9\n",
    "p_y1_fail = stats.norm(0, 1).cdf([grid_thr])\n",
    "p_ind = p_y1_fail ** 2"
   ]
  },
  {
   "cell_type": "code",
   "execution_count": 15,
   "id": "210a5f40-968b-4ec9-aa75-29a6a4055087",
   "metadata": {
    "execution": {
     "iopub.execute_input": "2022-01-10T15:31:28.538252Z",
     "iopub.status.busy": "2022-01-10T15:31:28.536254Z",
     "iopub.status.idle": "2022-01-10T15:31:28.615223Z",
     "shell.execute_reply": "2022-01-10T15:31:28.614949Z"
    }
   },
   "outputs": [
    {
     "data": {
      "text/plain": [
       "Text(0, 0.5, 'Probability of both < 2.5')"
      ]
     },
     "execution_count": 15,
     "metadata": {},
     "output_type": "execute_result"
    },
    {
     "data": {
      "image/png": "[encoded data removed]",
      "text/plain": [
       "<Figure size 432x288 with 1 Axes>"
      ]
     },
     "metadata": {
      "needs_background": "light"
     },
     "output_type": "display_data"
    }
   ],
   "source": [
    "fig, ax = plt.subplots()\n",
    "\n",
    "# Compute the likelihood of both failing\n",
    "covs = np.linspace(-0.999, 0.999, 64)\n",
    "values = [\n",
    "    stats.multivariate_normal([0, 0], [[1.0, cov], [cov, 1.0]]).cdf([grid_thr]*2)\n",
    "    for cov in covs\n",
    "]\n",
    "\n",
    "# Plot that\n",
    "ax.plot(covs, values)\n",
    "\n",
    "# Plot the independent\n",
    "ax.set_xlim(ax.get_xlim())\n",
    "ax.plot(ax.get_xlim(), [p_ind]*2, 'k--')\n",
    "ax.text(-1.1, p_ind, f'Probability if $y_1$, $y_2$ independant', ha='left', va='bottom')\n",
    "\n",
    "ax.plot(ax.get_xlim(), [p_y1_fail]*2, 'k:')\n",
    "ax.text(0.0, p_y1_fail, f'Probability $y_1 < {thr}$', ha='center', va='top')\n",
    "\n",
    "\n",
    "ax.set_xlabel('$\\sigma_{{y_1y_2}}$')\n",
    "ax.set_ylabel(f'Probability of both < {thr}')"
   ]
  },
  {
   "cell_type": "markdown",
   "id": "9b967153-c0a5-4fce-b529-f1c4a176b49f",
   "metadata": {},
   "source": [
    "Note how the probability of both $y_1$ and $y_2$ being less than 0.9 increases as the correlation between them increases. In fact, it approaches the probability that $y_1$ is less than the threshold. This makes sense in that if $y_2$ is closely correlated to $y_1$ then if $y_1$ fails so should $y_2$."
   ]
  },
  {
   "cell_type": "markdown",
   "id": "43a8d74e-e26b-4353-a49a-12939815c563",
   "metadata": {},
   "source": [
    "## Circling Back to the Original Porblem\n",
    "With that theory and implementation done, let's re-consider the probability of an improved experiment.\n",
    "\n",
    "Fortunately, Scikit-Learn will compute the covaraince between predictions for us."
   ]
  },
  {
   "cell_type": "code",
   "execution_count": 16,
   "id": "4d440488-06f3-4a4e-8deb-d0ab76fd4caf",
   "metadata": {
    "execution": {
     "iopub.execute_input": "2022-01-10T15:31:28.617508Z",
     "iopub.status.busy": "2022-01-10T15:31:28.617162Z",
     "iopub.status.idle": "2022-01-10T15:31:28.620456Z",
     "shell.execute_reply": "2022-01-10T15:31:28.620175Z"
    }
   },
   "outputs": [],
   "source": [
    "y_mean, y_cov = model.predict(X, return_cov=True)\n",
    "y_dist = stats.multivariate_normal(mean=y_mean, cov=y_cov, allow_singular=True)"
   ]
  },
  {
   "cell_type": "code",
   "execution_count": 17,
   "id": "527fd6e8-0463-4490-92c4-1b44af546a75",
   "metadata": {
    "execution": {
     "iopub.execute_input": "2022-01-10T15:45:05.506792Z",
     "iopub.status.busy": "2022-01-10T15:31:28.622186Z",
     "iopub.status.idle": "2022-01-10T15:45:05.509189Z",
     "shell.execute_reply": "2022-01-10T15:45:05.508692Z"
    }
   },
   "outputs": [
    {
     "name": "stdout",
     "output_type": "stream",
     "text": [
      "CPU times: user 13min 41s, sys: 1.35 s, total: 13min 42s\n",
      "Wall time: 13min 36s\n"
     ]
    }
   ],
   "source": [
    "%%time\n",
    "thr = 3\n",
    "start_time = perf_counter()\n",
    "full_fail_prob = y_dist.cdf([thr]*X.shape[0]) # Probability of all variables being below thr\n",
    "full_runtime = perf_counter() - start_time"
   ]
  },
  {
   "cell_type": "code",
   "execution_count": 18,
   "id": "767a690c-dab9-453c-ac46-b0f7c7af818c",
   "metadata": {
    "execution": {
     "iopub.execute_input": "2022-01-10T15:45:05.511709Z",
     "iopub.status.busy": "2022-01-10T15:45:05.511253Z",
     "iopub.status.idle": "2022-01-10T15:45:05.513434Z",
     "shell.execute_reply": "2022-01-10T15:45:05.512963Z"
    }
   },
   "outputs": [
    {
     "name": "stdout",
     "output_type": "stream",
     "text": [
      "Probability of all failing, considering covariance: 96.14%\n"
     ]
    }
   ],
   "source": [
    "print(f'Probability of all failing, considering covariance: {full_fail_prob * 100:.2f}%')"
   ]
  },
  {
   "cell_type": "markdown",
   "id": "f55e1eaa-1ce3-4c76-bf4c-3322d1cb1fdf",
   "metadata": {},
   "source": [
    "Excellent! We now compute a more reasonable probability of all failing of 96%!"
   ]
  },
  {
   "cell_type": "markdown",
   "id": "0fec6afa-7ce0-4c71-b9a5-bd521bbe2008",
   "metadata": {},
   "source": [
    "### Improving computational efficiency\n",
    "One thing to note is that the computation takes a long time to compute. Computing the CDF requires with $N$ predictions requires solving an $N$-dimenisonal integral, which is computationally expensive and slow even though that part of SciPy is written in FORTRAN. So, we need an approximation.\n",
    "\n",
    "Given how the GPR works, points with similar input values are going to be more strongly correlated (it has to do with the GPR's functional form being a sum over radial basis functions). Consequently, we can assume the predictions of points far from each other to be independent.\n",
    "\n",
    "We will use that nature to make an approximation. We compute the probability of a subset of points from the search space to fail to exceed of threshold using the covariance. We then draw a subset of remaining points, compute its probability of failure, and then repeat until we sample all points from the search space. We can approximate the probability of each subset to be independent if the points are sufficiently far apart, which means the probability of *all* subsets failing can be computed by multiplying them together (just like we did earlier)."
   ]
  },
  {
   "cell_type": "code",
   "execution_count": 19,
   "id": "eac356f7-83e9-4b8a-871c-e0a9dcfc8add",
   "metadata": {
    "execution": {
     "iopub.execute_input": "2022-01-10T15:45:05.516958Z",
     "iopub.status.busy": "2022-01-10T15:45:05.516475Z",
     "iopub.status.idle": "2022-01-10T15:45:05.518186Z",
     "shell.execute_reply": "2022-01-10T15:45:05.517721Z"
    },
    "tags": []
   },
   "outputs": [],
   "source": [
    "def compute_failure_prob_using_chunks(model: GaussianProcessRegressor, X: np.ndarray, n_chunks: int, thr: float) -> float:\n",
    "    \"\"\"Compute the probability of all points in a search space being below a threshold.\n",
    "    \n",
    "    Uses a chunked approach where we group points together by similarity to treat as \n",
    "    correlated experiments. The different groups are treated as uncorrelated for \n",
    "    computational efficiency. Larger number of groups will lead to faster computation\n",
    "    as you consider a fewer number of covariances between experiments.\n",
    "    \n",
    "    Note that an implementation of this strategy where X is multidimensinal might want to use\n",
    "    some kind of clustering to find good chunks rather than just splitting them by rows.\n",
    "\n",
    "    Args:\n",
    "        model: Gaussian process regression model\n",
    "        X: Search space, assumed to be sorted such that nearby rows are similar\n",
    "        n_chunks: Number of chunks to use\n",
    "        thr: Target threshold to be above\n",
    "    Returns:\n",
    "        Probability that all points will be below the threshold\n",
    "    \"\"\"\n",
    "    \n",
    "    chunk_probs = []\n",
    "    for X_chunk in np.array_split(X, n_chunks):\n",
    "        y_mean, y_cov = model.predict(X_chunk, return_cov=True)\n",
    "        y_dist = stats.multivariate_normal(mean=y_mean, cov=y_cov, allow_singular=True)\n",
    "        chunk_probs.append(y_dist.cdf([thr]*X_chunk.shape[0]))\n",
    "        \n",
    "    return np.prod(chunk_probs)"
   ]
  },
  {
   "cell_type": "code",
   "execution_count": 20,
   "id": "355999ee-f7af-498e-8a19-d4e41129537f",
   "metadata": {
    "execution": {
     "iopub.execute_input": "2022-01-10T15:45:05.520957Z",
     "iopub.status.busy": "2022-01-10T15:45:05.520603Z",
     "iopub.status.idle": "2022-01-10T16:04:22.773724Z",
     "shell.execute_reply": "2022-01-10T16:04:22.773483Z"
    },
    "tags": []
   },
   "outputs": [
    {
     "name": "stderr",
     "output_type": "stream",
     "text": [
      "100%|█████████████████████████████████████████████████████████████████████████████████████████████████████████████████████████████████████████████████████████████████████████████| 8/8 [19:17<00:00, 144.66s/it]\n"
     ]
    }
   ],
   "source": [
    "chunk_results = []\n",
    "for n in tqdm([1, 2, 4, 8, 16, 32, 64, 128]):\n",
    "    start_time = perf_counter()\n",
    "    my_fail_prob = compute_failure_prob_using_chunks(model, X, n, thr)\n",
    "    runtime = perf_counter() - start_time\n",
    "    chunk_results.append({\n",
    "        'chunks': n,\n",
    "        'fail_prob': my_fail_prob,\n",
    "        'runtime': runtime\n",
    "    })"
   ]
  },
  {
   "cell_type": "code",
   "execution_count": 21,
   "id": "340c1d96-7a78-442b-b01d-ec05f98b2866",
   "metadata": {
    "execution": {
     "iopub.execute_input": "2022-01-10T16:04:22.777008Z",
     "iopub.status.busy": "2022-01-10T16:04:22.776734Z",
     "iopub.status.idle": "2022-01-10T16:04:22.778078Z",
     "shell.execute_reply": "2022-01-10T16:04:22.777844Z"
    },
    "tags": []
   },
   "outputs": [],
   "source": [
    "chunk_results = pd.DataFrame(chunk_results)"
   ]
  },
  {
   "cell_type": "code",
   "execution_count": 22,
   "id": "d3ba33e9-9c83-4da2-88ea-1d268a94c58c",
   "metadata": {
    "execution": {
     "iopub.execute_input": "2022-01-10T16:04:22.786332Z",
     "iopub.status.busy": "2022-01-10T16:04:22.785804Z",
     "iopub.status.idle": "2022-01-10T16:04:23.103926Z",
     "shell.execute_reply": "2022-01-10T16:04:23.103666Z"
    },
    "tags": []
   },
   "outputs": [
    {
     "data": {
      "text/plain": [
       "Text(0.5, 0, 'N Chunks')"
      ]
     },
     "execution_count": 22,
     "metadata": {},
     "output_type": "execute_result"
    },
    {
     "data": {
      "image/png": "[encoded data removed]",
      "text/plain": [
       "<Figure size 252x216 with 2 Axes>"
      ]
     },
     "metadata": {
      "needs_background": "light"
     },
     "output_type": "display_data"
    }
   ],
   "source": [
    "fig, ax = plt.subplots(figsize=(3.5, 3))\n",
    "\n",
    "ax2 = ax.twinx()\n",
    "rt, = ax2.loglog(chunk_results['chunks'], chunk_results['runtime'], 'rs--', label='Runtime')\n",
    "ax2.set_ylabel('Runtime (s)')\n",
    "\n",
    "pl, = ax.semilogx(chunk_results['chunks'], chunk_results['fail_prob'], 'bo-', base=2, label='Prob.')\n",
    "ax.set_ylabel('$P^{all-fail}$')\n",
    "ax.legend((rt, pl), ('Runtime', 'Prob'))\n",
    "\n",
    "ax.set_xlim(ax.get_xlim())\n",
    "ax.set_xlabel('N Chunks')"
   ]
  },
  {
   "cell_type": "markdown",
   "id": "3d869f5b-3fa9-4e0a-a412-29f7b2c943f4",
   "metadata": {},
   "source": [
    "We can get close to the true success probability with a fraction of the computational cost using this approximate approach."
   ]
  },
  {
   "cell_type": "markdown",
   "id": "5a805689-37f2-4dd7-80d5-d33594b89dbd",
   "metadata": {},
   "source": [
    "### Even Faster: Avoid Solving the Integral\n",
    "\n",
    "**TODO (wardlt)**: On later reading, the logic here is wrong. GPR is not built on a covariance matrix of model parameters and is, instead, generates covariance matrices of predictions. However flawed the motivation, the results of this experiment show that we can accelerate the solution of the CDF integral using a Monte Carlo sampling rather than\n",
    "\n",
    "The slow step in the above computations is solving the cumulative distribution function, which involves computing the area under a multidimensional integral. \n",
    "Instead of solving that integral exactly, we can approximate it by [drawing samples from Gaussian Process Regression](https://scikit-learn.org/stable/modules/generated/sklearn.gaussian_process.GaussianProcessRegressor.html#sklearn.gaussian_process.GaussianProcessRegressor.sample_y) and measuring the cumulative number that fall beneath our target threshold.\n",
    "Such an approach relies on performing inference from the GPR model many times in contrast to only performing inference once in the previous example.\n",
    "If inference is fast and the number we need to draw to converge is small, then this method will be faster than our previous implementations.\n",
    "Worst case: running many inference samples is at least pleasingly parallel.\n",
    "\n",
    "Speaking more formally, relying on sampling predictions from the model is conceptually very different from our previous implementation that involved probability distributions of predictions. \n",
    "Instead, we leverage how Gaussian processes are built on probability distributions of model parameters to ask \"what is the likelihood of a model which predicts a value over our threshold.\"\n",
    "We can solve this question using a Monte Carlo procedure:\n",
    "1. Draw a sample of potential model parameters\n",
    "1. Evaluate all points in the search space\n",
    "1. Record whether any where above the threshold\n",
    "1. Repeat from step 1 until we have recorded an adaquate number of samples\n",
    "1. Average values from all sampled models\n"
   ]
  },
  {
   "cell_type": "code",
   "execution_count": 23,
   "id": "75559909-2a11-4b56-ae45-dac913884ecd",
   "metadata": {
    "execution": {
     "iopub.execute_input": "2022-01-10T16:04:23.108617Z",
     "iopub.status.busy": "2022-01-10T16:04:23.108339Z",
     "iopub.status.idle": "2022-01-10T16:04:23.109265Z",
     "shell.execute_reply": "2022-01-10T16:04:23.109478Z"
    }
   },
   "outputs": [],
   "source": [
    "def compute_failure_prob_using_sampling(model: GaussianProcessRegressor, X: np.ndarray, thr: float, n_samples: int = 256, entries_per_batch: int = 16384, samples_per_batch: int = 16) -> float:\n",
    "    \"\"\"Compute the probability of all points in a search space being below a threshold.\n",
    "    \n",
    "    Use a sampling technique were we sample the posterior of the Gaussian process model many times\n",
    "    and evaluate whether all entries are below the threshold for that set of parameters.\n",
    "    \n",
    "    We use a few different performance optimizations to compute this integral quickly and \n",
    "    with limited memory: \n",
    "    1. We only evaluate a small number of entries and sample a few models at a time\n",
    "    2. We stop sampling entries in our search space once we find at least one that is above\n",
    "    \n",
    "    Some more ideas:\n",
    "    1. Parallelize the inference across nodes\n",
    "    2. Sort entries by mean prediction so that those which are most likely to be above threshold are sampled first\n",
    "    \n",
    "    Args:\n",
    "        model: Gaussian process regression model\n",
    "        X: Search space\n",
    "        n_samples: Number of potential models to sample\n",
    "        entries_per_batch: Number of entries to evaluate at each time\n",
    "        samples_per_batch: Number of modls\n",
    "        thr: Target threshold to be above\n",
    "    Returns:\n",
    "        Probability that all points will be below the threshold\n",
    "    \"\"\"\n",
    "    \n",
    "    # Chunk the search space into sizes no larger than entries_per_batch\n",
    "    X_chunks = np.array_split(X, len(X) // entries_per_batch + 1)\n",
    "    \n",
    "    # Loop over batches of models and search spaces\n",
    "    any_above = []\n",
    "    samples_per_batch = min(samples_per_batch, n_samples)\n",
    "    for sample_id in range(0, n_samples, samples_per_batch):\n",
    "        any_above_batch = [False] * samples_per_batch  # Initialize for the model\n",
    "        for X_chunk in X_chunks:\n",
    "            # Compute the expected y for <samples_per_batch> models\n",
    "            #  random_state ensures we get the same model over each chunk\n",
    "            y_chunk = model.sample_y(X_chunk, n_samples=samples_per_batch, random_state=sample_id)\n",
    "            \n",
    "    \n",
    "            # Check whether any prediction *from each model* is above the threshold\n",
    "            any_above_chunk = np.any(y_chunk > thr, axis=0)\n",
    "            \n",
    "            # Update whether we've found any above the threshold in this batch\n",
    "            any_above_batch = np.logical_or(any_above_batch, any_above_chunk)\n",
    "            \n",
    "            # If we've found one for every model, no more need to sample\n",
    "            if any_above_batch.all():\n",
    "                break\n",
    "        \n",
    "        # Add to the list for all samples\n",
    "        any_above.extend(any_above_batch)\n",
    "        \n",
    "    # Compute the probability and confidence interval\n",
    "    prob = 1 - np.mean(any_above)\n",
    "    ci = 1.97 * np.sqrt(prob * (1 - prob) / len(any_above))\n",
    "    return prob, ci    "
   ]
  },
  {
   "cell_type": "markdown",
   "id": "91c27e9e-f6e2-4ec2-a152-5ed2775b44e3",
   "metadata": {},
   "source": [
    "Compute with a different number of samples"
   ]
  },
  {
   "cell_type": "code",
   "execution_count": 24,
   "id": "ef61f18c-d59d-482a-9e9d-be9a6198cb0e",
   "metadata": {
    "execution": {
     "iopub.execute_input": "2022-01-10T16:04:23.112038Z",
     "iopub.status.busy": "2022-01-10T16:04:23.111772Z",
     "iopub.status.idle": "2022-01-10T16:04:32.966857Z",
     "shell.execute_reply": "2022-01-10T16:04:32.966571Z"
    }
   },
   "outputs": [
    {
     "name": "stderr",
     "output_type": "stream",
     "text": [
      "100%|████████████████████████████████████████████████████████████████████████████████████████████████████████████████████████████████████████████████████████████████████████████| 11/11 [00:09<00:00,  1.12it/s]\n"
     ]
    }
   ],
   "source": [
    "sample_results = []\n",
    "for n in tqdm([32, 64, 128, 256, 512, 1024, 2048, 4096, 8192, 16384, 32768]):\n",
    "    start_time = perf_counter()\n",
    "    my_fail_prob, my_fail_ci = compute_failure_prob_using_sampling(model, X, thr, n_samples=n, entries_per_batch=8192)\n",
    "    runtime = perf_counter() - start_time\n",
    "    sample_results.append({\n",
    "        'samples': n,\n",
    "        'fail_prob': my_fail_prob,\n",
    "        'fail_prob_ci': my_fail_ci,\n",
    "        'runtime': runtime\n",
    "    })\n",
    "sample_results = pd.DataFrame(sample_results)"
   ]
  },
  {
   "cell_type": "markdown",
   "id": "3f44f873-b1a4-42e1-80cd-f507f817c6db",
   "metadata": {},
   "source": [
    "Compare to the chunk results"
   ]
  },
  {
   "cell_type": "code",
   "execution_count": 25,
   "id": "e7e05f2e-6392-41a0-9da8-22784e2f9349",
   "metadata": {
    "execution": {
     "iopub.execute_input": "2022-01-10T16:04:32.969825Z",
     "iopub.status.busy": "2022-01-10T16:04:32.968441Z",
     "iopub.status.idle": "2022-01-10T16:04:32.971064Z",
     "shell.execute_reply": "2022-01-10T16:04:32.971270Z"
    }
   },
   "outputs": [],
   "source": [
    "for results in [sample_results, chunk_results]:\n",
    "    results['fail_prob_error'] = abs(results['fail_prob'] - full_fail_prob)"
   ]
  },
  {
   "cell_type": "code",
   "execution_count": 26,
   "id": "375dd83f-3a85-42dc-a7cf-5e351109711a",
   "metadata": {
    "execution": {
     "iopub.execute_input": "2022-01-10T16:04:32.981331Z",
     "iopub.status.busy": "2022-01-10T16:04:32.980918Z",
     "iopub.status.idle": "2022-01-10T16:04:33.068010Z",
     "shell.execute_reply": "2022-01-10T16:04:33.068235Z"
    }
   },
   "outputs": [
    {
     "data": {
      "text/plain": [
       "<matplotlib.legend.Legend at 0x7fcdb04e18e0>"
      ]
     },
     "execution_count": 26,
     "metadata": {},
     "output_type": "execute_result"
    },
    {
     "data": {
      "image/png": "[encoded data removed]",
      "text/plain": [
       "<Figure size 252x144 with 1 Axes>"
      ]
     },
     "metadata": {
      "needs_background": "light"
     },
     "output_type": "display_data"
    }
   ],
   "source": [
    "fig, ax = plt.subplots(figsize=(3.5, 2))\n",
    "\n",
    "ax.plot(sample_results['runtime'], sample_results['fail_prob_error'] * 100, '--o', label='Sample Models')\n",
    "ax.plot(chunk_results['runtime'], chunk_results['fail_prob_error'] * 100, '--s', label='Batched Predictions')\n",
    "\n",
    "ax.plot([full_runtime], [0], '*', label='Exact')\n",
    "\n",
    "ax.set_xscale('log')\n",
    "\n",
    "ax.set_ylim(0, 5)\n",
    "ax.set_xlabel('Runtime (s)')\n",
    "ax.set_ylabel('Difference from Exact (%)')\n",
    "\n",
    "ax.legend()"
   ]
  },
  {
   "cell_type": "code",
   "execution_count": null,
   "id": "8df9bee5-353e-450b-b22f-345a9e28dc9f",
   "metadata": {},
   "outputs": [],
   "source": []
  }
 ],
 "metadata": {
  "kernelspec": {
   "display_name": "Python 3 (ipykernel)",
   "language": "python",
   "name": "python3"
  },
  "language_info": {
   "codemirror_mode": {
    "name": "ipython",
    "version": 3
   },
   "file_extension": ".py",
   "mimetype": "text/x-python",
   "name": "python",
   "nbconvert_exporter": "python",
   "pygments_lexer": "ipython3",
   "version": "3.9.7"
  }
 },
 "nbformat": 4,
 "nbformat_minor": 5
}
